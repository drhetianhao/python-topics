{
 "cells": [
  {
   "cell_type": "code",
   "execution_count": 1,
   "metadata": {},
   "outputs": [
    {
     "ename": "ModuleNotFoundError",
     "evalue": "No module named 'gym'",
     "output_type": "error",
     "traceback": [
      "\u001b[1;31m---------------------------------------------------------------------------\u001b[0m",
      "\u001b[1;31mModuleNotFoundError\u001b[0m                       Traceback (most recent call last)",
      "\u001b[1;32m~\\AppData\\Local\\Temp/ipykernel_11952/3089368227.py\u001b[0m in \u001b[0;36m<module>\u001b[1;34m\u001b[0m\n\u001b[1;32m----> 1\u001b[1;33m \u001b[1;32mimport\u001b[0m \u001b[0mgym\u001b[0m\u001b[1;33m\u001b[0m\u001b[1;33m\u001b[0m\u001b[0m\n\u001b[0m\u001b[0;32m      2\u001b[0m \u001b[0menv\u001b[0m \u001b[1;33m=\u001b[0m \u001b[0mgym\u001b[0m\u001b[1;33m.\u001b[0m\u001b[0mmake\u001b[0m\u001b[1;33m(\u001b[0m\u001b[1;34m'CartPole-v0'\u001b[0m\u001b[1;33m)\u001b[0m\u001b[1;33m\u001b[0m\u001b[1;33m\u001b[0m\u001b[0m\n\u001b[0;32m      3\u001b[0m \u001b[0menv\u001b[0m\u001b[1;33m.\u001b[0m\u001b[0mreset\u001b[0m\u001b[1;33m(\u001b[0m\u001b[1;33m)\u001b[0m\u001b[1;33m\u001b[0m\u001b[1;33m\u001b[0m\u001b[0m\n",
      "\u001b[1;31mModuleNotFoundError\u001b[0m: No module named 'gym'"
     ]
    }
   ],
   "source": [
    "import gym\n",
    "\n",
    "env = gym.make(\"CartPole-v0\")\n",
    "env.reset()"
   ]
  },
  {
   "cell_type": "code",
   "execution_count": null,
   "metadata": {},
   "outputs": [
    {
     "name": "stdout",
     "output_type": "stream",
     "text": [
      "[ 0.04915111 -0.16973019 -0.0221422   0.24189527]\n",
      "[ 0.04575651  0.02570093 -0.01730429 -0.05768884]\n",
      "[ 0.04627052  0.22106667 -0.01845807 -0.35578077]\n",
      "[ 0.05069186  0.02621195 -0.02557369 -0.06897485]\n",
      "[ 0.0512161   0.22169103 -0.02695318 -0.36961544]\n",
      "[ 0.05564992  0.0269622  -0.03434549 -0.08555156]\n",
      "[ 0.05618916 -0.16765103 -0.03605652  0.19610053]\n",
      "[ 0.05283614 -0.36223918 -0.03213451  0.47719472]\n",
      "[ 0.04559136 -0.1666786  -0.02259062  0.17455937]\n",
      "[ 0.04225779  0.02875926 -0.01909943 -0.12516369]\n",
      "[ 0.04283297  0.22414955 -0.0216027  -0.42381056]\n",
      "[ 0.04731596  0.02934018 -0.03007891 -0.13801539]\n",
      "[ 0.04790277 -0.16533833 -0.03283922  0.14502841]\n",
      "[ 0.044596    0.03023815 -0.02993865 -0.15783112]\n",
      "[ 0.04520076 -0.16444266 -0.03309528  0.12525857]\n",
      "[ 0.04191191  0.03113741 -0.03059011 -0.17767911]\n",
      "[ 0.04253466 -0.16353373 -0.03414369  0.10519889]\n",
      "[ 0.03926398  0.03206047 -0.03203971 -0.19805769]\n",
      "[ 0.03990519  0.22762569 -0.03600086 -0.50067304]\n",
      "[ 0.0444577   0.42323615 -0.04601432 -0.80448058]\n",
      "[ 0.05292243  0.61895774 -0.06210394 -1.11127565]\n",
      "[ 0.06530158  0.42470414 -0.08432945 -0.8387038 ]\n",
      "[ 0.07379567  0.62087013 -0.10110352 -1.15667063]\n",
      "[ 0.08621307  0.81715415 -0.12423694 -1.47926695]\n",
      "[ 0.10255615  1.01355434 -0.15382228 -1.80802839]\n",
      "[ 0.12282724  0.82044685 -0.18998284 -1.5668329 ]\n",
      "[ 0.13923618  1.01726249 -0.2213195  -1.9122641 ]\n"
     ]
    }
   ],
   "source": [
    "is_done = False\n",
    "while not is_done:\n",
    "    action = env.action_space.sample()\n",
    "    new_state, reward, is_done, info = env.step(action)\n",
    "    print(new_state)\n",
    "    env.render()"
   ]
  },
  {
   "cell_type": "code",
   "execution_count": null,
   "metadata": {},
   "outputs": [
    {
     "name": "stdout",
     "output_type": "stream",
     "text": [
      "[ 0.01811104 -0.16198916  0.0190528   0.28562348]\n",
      "[ 0.01487126 -0.35737759  0.02476527  0.58425411]\n",
      "[ 0.00772371 -0.55283755  0.03645036  0.88463439]\n",
      "[-0.00333304 -0.74843496  0.05414304  1.18854965]\n",
      "[-0.01830174 -0.94421534  0.07791404  1.49770017]\n",
      "[-0.03718605 -0.75012198  0.10786804  1.23032694]\n",
      "[-0.05218849 -0.94645345  0.13247458  1.55476423]\n",
      "[-0.07111756 -0.75314451  0.16356986  1.30617516]\n",
      "[-0.08618045 -0.56042964  0.18969337  1.06883672]\n",
      "[-0.09738904 -0.36825317  0.2110701   0.84117886]\n",
      "Average total reward over 10000 episodes: 22.1631\n"
     ]
    }
   ],
   "source": [
    "import gym\n",
    "\n",
    "env = gym.make(\"CartPole-v0\")\n",
    "\n",
    "# video_dir = './cartpole_video/'\n",
    "# env = gym.wrappers.Monitor(env, video_dir)\n",
    "\n",
    "env.reset()\n",
    "\n",
    "env.render()\n",
    "\n",
    "\n",
    "is_done = False\n",
    "while not is_done:\n",
    "    action = env.action_space.sample()\n",
    "    new_state, reward, is_done, info = env.step(action)\n",
    "    print(new_state)\n",
    "    env.render()\n",
    "\n",
    "\n",
    "n_episode = 10000\n",
    "total_rewards = []\n",
    "for episode in range(n_episode):\n",
    "    state = env.reset()\n",
    "    total_reward = 0\n",
    "    is_done = False\n",
    "    while not is_done:\n",
    "        action = env.action_space.sample()\n",
    "        state, reward, is_done, _ = env.step(action)\n",
    "        total_reward += reward\n",
    "    total_rewards.append(total_reward)\n",
    "\n",
    "\n",
    "print(\n",
    "    \"Average total reward over {} episodes: {}\".format(\n",
    "        n_episode, sum(total_rewards) / n_episode\n",
    "    )\n",
    ")"
   ]
  },
  {
   "cell_type": "code",
   "execution_count": null,
   "metadata": {},
   "outputs": [],
   "source": []
  }
 ],
 "metadata": {
  "interpreter": {
   "hash": "15b0083f1850e8bf0d41bef0d753b5e596b9ca1183a11f045f4ea18f290943fa"
  },
  "kernelspec": {
   "display_name": "Python 3.9.12 64-bit",
   "language": "python",
   "name": "python3"
  },
  "language_info": {
   "codemirror_mode": {
    "name": "ipython",
    "version": 3
   },
   "file_extension": ".py",
   "mimetype": "text/x-python",
   "name": "python",
   "nbconvert_exporter": "python",
   "pygments_lexer": "ipython3",
   "version": "3.9.12"
  }
 },
 "nbformat": 4,
 "nbformat_minor": 4
}
